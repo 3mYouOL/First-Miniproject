{
 "cells": [
  {
   "cell_type": "markdown",
   "id": "0083eed6-3676-4a9d-8ffd-28a2990b865d",
   "metadata": {
    "tags": []
   },
   "source": [
    "## 1. Pollutant Mean (Solution Code)"
   ]
  },
  {
   "cell_type": "code",
   "execution_count": 1,
   "id": "5ab3850a-1e92-4d7f-abe1-d488f132faf0",
   "metadata": {},
   "outputs": [
    {
     "name": "stderr",
     "output_type": "stream",
     "text": [
      "Warning message:\n",
      "\"package 'plyr' was built under R version 4.1.1\"\n"
     ]
    }
   ],
   "source": [
    "library(plyr)\n",
    "\n",
    "pollutantmean <- function(directory, pollutant, id = 1:332) {\n",
    "    csv_files <- list.files(path = directory)[id]\n",
    "    csv_read <- vector(mode = \"list\")\n",
    "\n",
    "    for (csv_file in csv_files) {\n",
    "       csv_read <- append(csv_read, list(read.csv(paste(directory, \"/\", csv_file, sep=\"\"))))\n",
    "    }\n",
    "\n",
    "    csv_cumulative <- rbind.fill(csv_read)\n",
    "\n",
    "    mean(csv_cumulative[, pollutant], na.rm = TRUE)\n",
    "}"
   ]
  },
  {
   "cell_type": "markdown",
   "id": "5b27ff59-df58-4fcb-afa0-0dd5206ef188",
   "metadata": {},
   "source": [
    "### Test Cases"
   ]
  },
  {
   "cell_type": "code",
   "execution_count": 2,
   "id": "1b66e14e-6c0f-462d-a380-325708af3982",
   "metadata": {},
   "outputs": [
    {
     "data": {
      "text/html": [
       "4.06412824256036"
      ],
      "text/latex": [
       "4.06412824256036"
      ],
      "text/markdown": [
       "4.06412824256036"
      ],
      "text/plain": [
       "[1] 4.064128"
      ]
     },
     "metadata": {},
     "output_type": "display_data"
    }
   ],
   "source": [
    "pollutantmean(\"specdata\", \"sulfate\", 1:10)"
   ]
  },
  {
   "cell_type": "code",
   "execution_count": 3,
   "id": "ef76b66a-71a4-4617-adb8-40d79453a0d9",
   "metadata": {},
   "outputs": [
    {
     "data": {
      "text/html": [
       "1.70604735169492"
      ],
      "text/latex": [
       "1.70604735169492"
      ],
      "text/markdown": [
       "1.70604735169492"
      ],
      "text/plain": [
       "[1] 1.706047"
      ]
     },
     "metadata": {},
     "output_type": "display_data"
    }
   ],
   "source": [
    "pollutantmean(\"specdata\", \"nitrate\", 70:72)"
   ]
  },
  {
   "cell_type": "code",
   "execution_count": 4,
   "id": "6f4c1e6f-de0c-4222-a75c-2fb0aaa85b91",
   "metadata": {},
   "outputs": [
    {
     "data": {
      "text/html": [
       "1.28083333333333"
      ],
      "text/latex": [
       "1.28083333333333"
      ],
      "text/markdown": [
       "1.28083333333333"
      ],
      "text/plain": [
       "[1] 1.280833"
      ]
     },
     "metadata": {},
     "output_type": "display_data"
    }
   ],
   "source": [
    "pollutantmean(\"specdata\", \"nitrate\", 23)"
   ]
  }
 ],
 "metadata": {
  "kernelspec": {
   "display_name": "R",
   "language": "R",
   "name": "ir"
  },
  "language_info": {
   "codemirror_mode": "r",
   "file_extension": ".r",
   "mimetype": "text/x-r-source",
   "name": "R",
   "pygments_lexer": "r",
   "version": "4.1.0"
  }
 },
 "nbformat": 4,
 "nbformat_minor": 5
}
