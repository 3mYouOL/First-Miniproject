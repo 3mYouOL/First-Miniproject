{
 "cells": [
  {
   "cell_type": "markdown",
   "id": "0083eed6-3676-4a9d-8ffd-28a2990b865d",
   "metadata": {
    "tags": []
   },
   "source": [
    "## 1. Pollutant Mean (Solution Code)"
   ]
  },
  {
   "cell_type": "code",
   "execution_count": 1,
   "id": "5ab3850a-1e92-4d7f-abe1-d488f132faf0",
   "metadata": {},
   "outputs": [
    {
     "name": "stderr",
     "output_type": "stream",
     "text": [
      "Warning message:\n",
      "\"package 'plyr' was built under R version 4.1.1\"\n"
     ]
    }
   ],
   "source": [
    "library(plyr)\n",
    "\n",
    "pollutantmean <- function(directory, pollutant, id = 1:332) {\n",
    "    csv_files <- list.files(path = directory)[id]\n",
    "    csv_read <- vector(mode = \"list\")\n",
    "\n",
    "    for (csv_file in csv_files) {\n",
    "       csv_read <- append(csv_read, list(read.csv(paste(directory, \"/\", csv_file, sep=\"\"))))\n",
    "    }\n",
    "\n",
    "    csv_cumulative <- rbind.fill(csv_read)\n",
    "\n",
    "    mean(csv_cumulative[, pollutant], na.rm = TRUE)\n",
    "}"
   ]
  },
  {
   "cell_type": "markdown",
   "id": "5b27ff59-df58-4fcb-afa0-0dd5206ef188",
   "metadata": {
    "tags": []
   },
   "source": [
    "### Test Cases"
   ]
  },
  {
   "cell_type": "code",
   "execution_count": 2,
   "id": "1b66e14e-6c0f-462d-a380-325708af3982",
   "metadata": {},
   "outputs": [
    {
     "data": {
      "text/html": [
       "4.06412824256036"
      ],
      "text/latex": [
       "4.06412824256036"
      ],
      "text/markdown": [
       "4.06412824256036"
      ],
      "text/plain": [
       "[1] 4.064128"
      ]
     },
     "metadata": {},
     "output_type": "display_data"
    }
   ],
   "source": [
    "pollutantmean(\"specdata\", \"sulfate\", 1:10)"
   ]
  },
  {
   "cell_type": "code",
   "execution_count": 3,
   "id": "ef76b66a-71a4-4617-adb8-40d79453a0d9",
   "metadata": {},
   "outputs": [
    {
     "data": {
      "text/html": [
       "1.70604735169492"
      ],
      "text/latex": [
       "1.70604735169492"
      ],
      "text/markdown": [
       "1.70604735169492"
      ],
      "text/plain": [
       "[1] 1.706047"
      ]
     },
     "metadata": {},
     "output_type": "display_data"
    }
   ],
   "source": [
    "pollutantmean(\"specdata\", \"nitrate\", 70:72)"
   ]
  },
  {
   "cell_type": "code",
   "execution_count": 4,
   "id": "6f4c1e6f-de0c-4222-a75c-2fb0aaa85b91",
   "metadata": {},
   "outputs": [
    {
     "data": {
      "text/html": [
       "1.28083333333333"
      ],
      "text/latex": [
       "1.28083333333333"
      ],
      "text/markdown": [
       "1.28083333333333"
      ],
      "text/plain": [
       "[1] 1.280833"
      ]
     },
     "metadata": {},
     "output_type": "display_data"
    }
   ],
   "source": [
    "pollutantmean(\"specdata\", \"nitrate\", 23)"
   ]
  },
  {
   "cell_type": "markdown",
   "id": "57e0cfe4-d61a-4120-8722-e2c56ad2726a",
   "metadata": {},
   "source": [
    "## 2. Complete (Solution Code)"
   ]
  },
  {
   "cell_type": "code",
   "execution_count": 5,
   "id": "039ce21c-61db-46b1-88fe-1231ab2a07c4",
   "metadata": {},
   "outputs": [],
   "source": [
    "complete <- function(directory, id = 1:332) {\n",
    "    csv_files <- list.files(path = directory)[1:332]\n",
    "    csv_cumulative <- c()\n",
    "\n",
    "    for (csv_idx in id) {\n",
    "       csv_clean <- na.omit(read.csv(paste(directory, \"/\", csv_files[csv_idx], sep=\"\")))\n",
    "       csv_cumulative[csv_idx] <- nrow(csv_clean)\n",
    "    }\n",
    "\n",
    "    clean_data <- data.frame(id = id, nobs = na.omit(csv_cumulative))\n",
    "    clean_data\n",
    "}"
   ]
  },
  {
   "cell_type": "markdown",
   "id": "61d6f8fc-cd85-4d0c-89ee-7fcf7a1647d2",
   "metadata": {},
   "source": [
    "### Test Cases"
   ]
  },
  {
   "cell_type": "code",
   "execution_count": 6,
   "id": "1dedecc2-deb9-4b2b-8b9c-31e75498469c",
   "metadata": {},
   "outputs": [
    {
     "data": {
      "text/html": [
       "<table class=\"dataframe\">\n",
       "<caption>A data.frame: 1 × 2</caption>\n",
       "<thead>\n",
       "\t<tr><th scope=col>id</th><th scope=col>nobs</th></tr>\n",
       "\t<tr><th scope=col>&lt;dbl&gt;</th><th scope=col>&lt;int&gt;</th></tr>\n",
       "</thead>\n",
       "<tbody>\n",
       "\t<tr><td>1</td><td>117</td></tr>\n",
       "</tbody>\n",
       "</table>\n"
      ],
      "text/latex": [
       "A data.frame: 1 × 2\n",
       "\\begin{tabular}{ll}\n",
       " id & nobs\\\\\n",
       " <dbl> & <int>\\\\\n",
       "\\hline\n",
       "\t 1 & 117\\\\\n",
       "\\end{tabular}\n"
      ],
      "text/markdown": [
       "\n",
       "A data.frame: 1 × 2\n",
       "\n",
       "| id &lt;dbl&gt; | nobs &lt;int&gt; |\n",
       "|---|---|\n",
       "| 1 | 117 |\n",
       "\n"
      ],
      "text/plain": [
       "  id nobs\n",
       "1 1  117 "
      ]
     },
     "metadata": {},
     "output_type": "display_data"
    }
   ],
   "source": [
    "complete(\"specdata\", 1)"
   ]
  },
  {
   "cell_type": "code",
   "execution_count": 7,
   "id": "8f6faf12-1ce7-4316-9f37-fef5842764f8",
   "metadata": {},
   "outputs": [
    {
     "data": {
      "text/html": [
       "<table class=\"dataframe\">\n",
       "<caption>A data.frame: 5 × 2</caption>\n",
       "<thead>\n",
       "\t<tr><th scope=col>id</th><th scope=col>nobs</th></tr>\n",
       "\t<tr><th scope=col>&lt;dbl&gt;</th><th scope=col>&lt;int&gt;</th></tr>\n",
       "</thead>\n",
       "<tbody>\n",
       "\t<tr><td> 2</td><td>1041</td></tr>\n",
       "\t<tr><td> 4</td><td> 474</td></tr>\n",
       "\t<tr><td> 8</td><td> 192</td></tr>\n",
       "\t<tr><td>10</td><td> 148</td></tr>\n",
       "\t<tr><td>12</td><td>  96</td></tr>\n",
       "</tbody>\n",
       "</table>\n"
      ],
      "text/latex": [
       "A data.frame: 5 × 2\n",
       "\\begin{tabular}{ll}\n",
       " id & nobs\\\\\n",
       " <dbl> & <int>\\\\\n",
       "\\hline\n",
       "\t  2 & 1041\\\\\n",
       "\t  4 &  474\\\\\n",
       "\t  8 &  192\\\\\n",
       "\t 10 &  148\\\\\n",
       "\t 12 &   96\\\\\n",
       "\\end{tabular}\n"
      ],
      "text/markdown": [
       "\n",
       "A data.frame: 5 × 2\n",
       "\n",
       "| id &lt;dbl&gt; | nobs &lt;int&gt; |\n",
       "|---|---|\n",
       "|  2 | 1041 |\n",
       "|  4 |  474 |\n",
       "|  8 |  192 |\n",
       "| 10 |  148 |\n",
       "| 12 |   96 |\n",
       "\n"
      ],
      "text/plain": [
       "  id nobs\n",
       "1  2 1041\n",
       "2  4  474\n",
       "3  8  192\n",
       "4 10  148\n",
       "5 12   96"
      ]
     },
     "metadata": {},
     "output_type": "display_data"
    }
   ],
   "source": [
    "complete(\"specdata\", c(2, 4, 8, 10, 12))"
   ]
  },
  {
   "cell_type": "code",
   "execution_count": 8,
   "id": "8b136bdf-760c-4ea9-8698-4471c35bc224",
   "metadata": {},
   "outputs": [
    {
     "data": {
      "text/html": [
       "<table class=\"dataframe\">\n",
       "<caption>A data.frame: 6 × 2</caption>\n",
       "<thead>\n",
       "\t<tr><th scope=col>id</th><th scope=col>nobs</th></tr>\n",
       "\t<tr><th scope=col>&lt;int&gt;</th><th scope=col>&lt;int&gt;</th></tr>\n",
       "</thead>\n",
       "<tbody>\n",
       "\t<tr><td>30</td><td>463</td></tr>\n",
       "\t<tr><td>29</td><td>586</td></tr>\n",
       "\t<tr><td>28</td><td>338</td></tr>\n",
       "\t<tr><td>27</td><td>475</td></tr>\n",
       "\t<tr><td>26</td><td>711</td></tr>\n",
       "\t<tr><td>25</td><td>932</td></tr>\n",
       "</tbody>\n",
       "</table>\n"
      ],
      "text/latex": [
       "A data.frame: 6 × 2\n",
       "\\begin{tabular}{ll}\n",
       " id & nobs\\\\\n",
       " <int> & <int>\\\\\n",
       "\\hline\n",
       "\t 30 & 463\\\\\n",
       "\t 29 & 586\\\\\n",
       "\t 28 & 338\\\\\n",
       "\t 27 & 475\\\\\n",
       "\t 26 & 711\\\\\n",
       "\t 25 & 932\\\\\n",
       "\\end{tabular}\n"
      ],
      "text/markdown": [
       "\n",
       "A data.frame: 6 × 2\n",
       "\n",
       "| id &lt;int&gt; | nobs &lt;int&gt; |\n",
       "|---|---|\n",
       "| 30 | 463 |\n",
       "| 29 | 586 |\n",
       "| 28 | 338 |\n",
       "| 27 | 475 |\n",
       "| 26 | 711 |\n",
       "| 25 | 932 |\n",
       "\n"
      ],
      "text/plain": [
       "  id nobs\n",
       "1 30 463 \n",
       "2 29 586 \n",
       "3 28 338 \n",
       "4 27 475 \n",
       "5 26 711 \n",
       "6 25 932 "
      ]
     },
     "metadata": {},
     "output_type": "display_data"
    }
   ],
   "source": [
    "complete(\"specdata\", 30:25)"
   ]
  },
  {
   "cell_type": "code",
   "execution_count": 9,
   "id": "e69ad250-b406-4f0c-b039-c6d6f9c84706",
   "metadata": {},
   "outputs": [
    {
     "data": {
      "text/html": [
       "<table class=\"dataframe\">\n",
       "<caption>A data.frame: 1 × 2</caption>\n",
       "<thead>\n",
       "\t<tr><th scope=col>id</th><th scope=col>nobs</th></tr>\n",
       "\t<tr><th scope=col>&lt;dbl&gt;</th><th scope=col>&lt;int&gt;</th></tr>\n",
       "</thead>\n",
       "<tbody>\n",
       "\t<tr><td>3</td><td>243</td></tr>\n",
       "</tbody>\n",
       "</table>\n"
      ],
      "text/latex": [
       "A data.frame: 1 × 2\n",
       "\\begin{tabular}{ll}\n",
       " id & nobs\\\\\n",
       " <dbl> & <int>\\\\\n",
       "\\hline\n",
       "\t 3 & 243\\\\\n",
       "\\end{tabular}\n"
      ],
      "text/markdown": [
       "\n",
       "A data.frame: 1 × 2\n",
       "\n",
       "| id &lt;dbl&gt; | nobs &lt;int&gt; |\n",
       "|---|---|\n",
       "| 3 | 243 |\n",
       "\n"
      ],
      "text/plain": [
       "  id nobs\n",
       "1 3  243 "
      ]
     },
     "metadata": {},
     "output_type": "display_data"
    }
   ],
   "source": [
    "complete(\"specdata\", 3)"
   ]
  },
  {
   "cell_type": "code",
   "execution_count": null,
   "id": "f66dc45e-36e5-4cbf-ac28-5f0748c643c5",
   "metadata": {},
   "outputs": [],
   "source": []
  }
 ],
 "metadata": {
  "kernelspec": {
   "display_name": "R",
   "language": "R",
   "name": "ir"
  },
  "language_info": {
   "codemirror_mode": "r",
   "file_extension": ".r",
   "mimetype": "text/x-r-source",
   "name": "R",
   "pygments_lexer": "r",
   "version": "4.1.0"
  }
 },
 "nbformat": 4,
 "nbformat_minor": 5
}
